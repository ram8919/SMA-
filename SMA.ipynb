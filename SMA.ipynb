{
  "nbformat": 4,
  "nbformat_minor": 0,
  "metadata": {
    "colab": {
      "provenance": []
    },
    "kernelspec": {
      "name": "python3",
      "display_name": "Python 3"
    },
    "language_info": {
      "name": "python"
    }
  },
  "cells": [
    {
      "cell_type": "markdown",
      "source": [
        "# Introduction\n",
        "### 1. Background: Orbital maneuvers are critical in satellite trajectory management. Detecting these maneuvers based on changes in orbital elements like the semi-major axis (SMA) is a common practice. This document presents a heuristic method to automatically detect maneuvers by identifying significant changes in the SMA data.\n",
        "### 2. Objective: The objective is to develop a Python-based heuristic algorithm that can detect orbital maneuvers using SMA data. The method will be evaluated against known maneuver reference dates."
      ],
      "metadata": {
        "id": "zcSbQOG90NYX"
      }
    },
    {
      "cell_type": "markdown",
      "source": [
        "# Problem statement for this Dataset:\n",
        "\n",
        "### Objective: Develop a method to automatically detect maneuvers in orbital data using either heuristic or machine learning (ML) approaches.\n",
        "### Data: Utilize semi-major axis (SMA) variation over time without explicit maneuver data.\n",
        "### Evaluation: Assess the method’s accuracy using provided reference graphs and a table with known maneuvers.\n",
        "### Implementation: Create Python code for data preprocessing, feature extraction, maneuver detection, and result visualization."
      ],
      "metadata": {
        "id": "q6SEVI0N0rp0"
      }
    },
    {
      "cell_type": "code",
      "source": [
        "from google.colab import drive\n",
        "drive.mount('/content/drive')"
      ],
      "metadata": {
        "colab": {
          "base_uri": "https://localhost:8080/"
        },
        "id": "G5K11fPGHCnT",
        "outputId": "7b479697-6d65-4fac-844c-7a1bbcf7fabf"
      },
      "execution_count": 1,
      "outputs": [
        {
          "output_type": "stream",
          "name": "stdout",
          "text": [
            "Drive already mounted at /content/drive; to attempt to forcibly remount, call drive.mount(\"/content/drive\", force_remount=True).\n"
          ]
        }
      ]
    },
    {
      "cell_type": "code",
      "execution_count": 2,
      "metadata": {
        "id": "AsqXuvlX2zpp"
      },
      "outputs": [],
      "source": [
        "# Libraries we will use\n",
        "import pandas as pd\n",
        "import numpy as np\n",
        "from matplotlib import pyplot as plt\n",
        "import seaborn as sns\n",
        "from sklearn.preprocessing import StandardScaler\n",
        "from sklearn.model_selection import train_test_split\n",
        "from sklearn.ensemble import RandomForestClassifier\n",
        "from sklearn.metrics import classification_report, accuracy_score\n",
        "\n",
        "import warnings\n",
        "warnings.filterwarnings('ignore')"
      ]
    },
    {
      "cell_type": "code",
      "source": [
        "# Load and Preprocess Data\n",
        "file_path = '/content/SMA_data.csv'\n",
        "data = pd.read_csv(file_path)"
      ],
      "metadata": {
        "id": "fjR0lggg2-m5"
      },
      "execution_count": 3,
      "outputs": []
    },
    {
      "cell_type": "code",
      "source": [
        "# Show the dataset:\n",
        "data.head()"
      ],
      "metadata": {
        "colab": {
          "base_uri": "https://localhost:8080/",
          "height": 206
        },
        "id": "QEUveAiI5OOh",
        "outputId": "06d5e54f-7629-4b4c-9816-d7f99637e4cb"
      },
      "execution_count": 4,
      "outputs": [
        {
          "output_type": "execute_result",
          "data": {
            "text/plain": [
              "                     Datetime          SMA\n",
              "0  2018-01-01 04:34:10.320672  6864.691463\n",
              "1  2018-01-01 12:37:36.596064  6864.689664\n",
              "2  2018-01-01 20:31:55.898112  6864.688585\n",
              "3  2018-01-02 05:42:49.014720  6864.684927\n",
              "4  2018-01-02 12:13:01.263360  6864.682858"
            ],
            "text/html": [
              "\n",
              "  <div id=\"df-03802eaf-a147-4cd9-aaae-e898b221c5ea\" class=\"colab-df-container\">\n",
              "    <div>\n",
              "<style scoped>\n",
              "    .dataframe tbody tr th:only-of-type {\n",
              "        vertical-align: middle;\n",
              "    }\n",
              "\n",
              "    .dataframe tbody tr th {\n",
              "        vertical-align: top;\n",
              "    }\n",
              "\n",
              "    .dataframe thead th {\n",
              "        text-align: right;\n",
              "    }\n",
              "</style>\n",
              "<table border=\"1\" class=\"dataframe\">\n",
              "  <thead>\n",
              "    <tr style=\"text-align: right;\">\n",
              "      <th></th>\n",
              "      <th>Datetime</th>\n",
              "      <th>SMA</th>\n",
              "    </tr>\n",
              "  </thead>\n",
              "  <tbody>\n",
              "    <tr>\n",
              "      <th>0</th>\n",
              "      <td>2018-01-01 04:34:10.320672</td>\n",
              "      <td>6864.691463</td>\n",
              "    </tr>\n",
              "    <tr>\n",
              "      <th>1</th>\n",
              "      <td>2018-01-01 12:37:36.596064</td>\n",
              "      <td>6864.689664</td>\n",
              "    </tr>\n",
              "    <tr>\n",
              "      <th>2</th>\n",
              "      <td>2018-01-01 20:31:55.898112</td>\n",
              "      <td>6864.688585</td>\n",
              "    </tr>\n",
              "    <tr>\n",
              "      <th>3</th>\n",
              "      <td>2018-01-02 05:42:49.014720</td>\n",
              "      <td>6864.684927</td>\n",
              "    </tr>\n",
              "    <tr>\n",
              "      <th>4</th>\n",
              "      <td>2018-01-02 12:13:01.263360</td>\n",
              "      <td>6864.682858</td>\n",
              "    </tr>\n",
              "  </tbody>\n",
              "</table>\n",
              "</div>\n",
              "    <div class=\"colab-df-buttons\">\n",
              "\n",
              "  <div class=\"colab-df-container\">\n",
              "    <button class=\"colab-df-convert\" onclick=\"convertToInteractive('df-03802eaf-a147-4cd9-aaae-e898b221c5ea')\"\n",
              "            title=\"Convert this dataframe to an interactive table.\"\n",
              "            style=\"display:none;\">\n",
              "\n",
              "  <svg xmlns=\"http://www.w3.org/2000/svg\" height=\"24px\" viewBox=\"0 -960 960 960\">\n",
              "    <path d=\"M120-120v-720h720v720H120Zm60-500h600v-160H180v160Zm220 220h160v-160H400v160Zm0 220h160v-160H400v160ZM180-400h160v-160H180v160Zm440 0h160v-160H620v160ZM180-180h160v-160H180v160Zm440 0h160v-160H620v160Z\"/>\n",
              "  </svg>\n",
              "    </button>\n",
              "\n",
              "  <style>\n",
              "    .colab-df-container {\n",
              "      display:flex;\n",
              "      gap: 12px;\n",
              "    }\n",
              "\n",
              "    .colab-df-convert {\n",
              "      background-color: #E8F0FE;\n",
              "      border: none;\n",
              "      border-radius: 50%;\n",
              "      cursor: pointer;\n",
              "      display: none;\n",
              "      fill: #1967D2;\n",
              "      height: 32px;\n",
              "      padding: 0 0 0 0;\n",
              "      width: 32px;\n",
              "    }\n",
              "\n",
              "    .colab-df-convert:hover {\n",
              "      background-color: #E2EBFA;\n",
              "      box-shadow: 0px 1px 2px rgba(60, 64, 67, 0.3), 0px 1px 3px 1px rgba(60, 64, 67, 0.15);\n",
              "      fill: #174EA6;\n",
              "    }\n",
              "\n",
              "    .colab-df-buttons div {\n",
              "      margin-bottom: 4px;\n",
              "    }\n",
              "\n",
              "    [theme=dark] .colab-df-convert {\n",
              "      background-color: #3B4455;\n",
              "      fill: #D2E3FC;\n",
              "    }\n",
              "\n",
              "    [theme=dark] .colab-df-convert:hover {\n",
              "      background-color: #434B5C;\n",
              "      box-shadow: 0px 1px 3px 1px rgba(0, 0, 0, 0.15);\n",
              "      filter: drop-shadow(0px 1px 2px rgba(0, 0, 0, 0.3));\n",
              "      fill: #FFFFFF;\n",
              "    }\n",
              "  </style>\n",
              "\n",
              "    <script>\n",
              "      const buttonEl =\n",
              "        document.querySelector('#df-03802eaf-a147-4cd9-aaae-e898b221c5ea button.colab-df-convert');\n",
              "      buttonEl.style.display =\n",
              "        google.colab.kernel.accessAllowed ? 'block' : 'none';\n",
              "\n",
              "      async function convertToInteractive(key) {\n",
              "        const element = document.querySelector('#df-03802eaf-a147-4cd9-aaae-e898b221c5ea');\n",
              "        const dataTable =\n",
              "          await google.colab.kernel.invokeFunction('convertToInteractive',\n",
              "                                                    [key], {});\n",
              "        if (!dataTable) return;\n",
              "\n",
              "        const docLinkHtml = 'Like what you see? Visit the ' +\n",
              "          '<a target=\"_blank\" href=https://colab.research.google.com/notebooks/data_table.ipynb>data table notebook</a>'\n",
              "          + ' to learn more about interactive tables.';\n",
              "        element.innerHTML = '';\n",
              "        dataTable['output_type'] = 'display_data';\n",
              "        await google.colab.output.renderOutput(dataTable, element);\n",
              "        const docLink = document.createElement('div');\n",
              "        docLink.innerHTML = docLinkHtml;\n",
              "        element.appendChild(docLink);\n",
              "      }\n",
              "    </script>\n",
              "  </div>\n",
              "\n",
              "\n",
              "<div id=\"df-a0808f9d-c483-4715-8e18-8e8e5d1964a7\">\n",
              "  <button class=\"colab-df-quickchart\" onclick=\"quickchart('df-a0808f9d-c483-4715-8e18-8e8e5d1964a7')\"\n",
              "            title=\"Suggest charts\"\n",
              "            style=\"display:none;\">\n",
              "\n",
              "<svg xmlns=\"http://www.w3.org/2000/svg\" height=\"24px\"viewBox=\"0 0 24 24\"\n",
              "     width=\"24px\">\n",
              "    <g>\n",
              "        <path d=\"M19 3H5c-1.1 0-2 .9-2 2v14c0 1.1.9 2 2 2h14c1.1 0 2-.9 2-2V5c0-1.1-.9-2-2-2zM9 17H7v-7h2v7zm4 0h-2V7h2v10zm4 0h-2v-4h2v4z\"/>\n",
              "    </g>\n",
              "</svg>\n",
              "  </button>\n",
              "\n",
              "<style>\n",
              "  .colab-df-quickchart {\n",
              "      --bg-color: #E8F0FE;\n",
              "      --fill-color: #1967D2;\n",
              "      --hover-bg-color: #E2EBFA;\n",
              "      --hover-fill-color: #174EA6;\n",
              "      --disabled-fill-color: #AAA;\n",
              "      --disabled-bg-color: #DDD;\n",
              "  }\n",
              "\n",
              "  [theme=dark] .colab-df-quickchart {\n",
              "      --bg-color: #3B4455;\n",
              "      --fill-color: #D2E3FC;\n",
              "      --hover-bg-color: #434B5C;\n",
              "      --hover-fill-color: #FFFFFF;\n",
              "      --disabled-bg-color: #3B4455;\n",
              "      --disabled-fill-color: #666;\n",
              "  }\n",
              "\n",
              "  .colab-df-quickchart {\n",
              "    background-color: var(--bg-color);\n",
              "    border: none;\n",
              "    border-radius: 50%;\n",
              "    cursor: pointer;\n",
              "    display: none;\n",
              "    fill: var(--fill-color);\n",
              "    height: 32px;\n",
              "    padding: 0;\n",
              "    width: 32px;\n",
              "  }\n",
              "\n",
              "  .colab-df-quickchart:hover {\n",
              "    background-color: var(--hover-bg-color);\n",
              "    box-shadow: 0 1px 2px rgba(60, 64, 67, 0.3), 0 1px 3px 1px rgba(60, 64, 67, 0.15);\n",
              "    fill: var(--button-hover-fill-color);\n",
              "  }\n",
              "\n",
              "  .colab-df-quickchart-complete:disabled,\n",
              "  .colab-df-quickchart-complete:disabled:hover {\n",
              "    background-color: var(--disabled-bg-color);\n",
              "    fill: var(--disabled-fill-color);\n",
              "    box-shadow: none;\n",
              "  }\n",
              "\n",
              "  .colab-df-spinner {\n",
              "    border: 2px solid var(--fill-color);\n",
              "    border-color: transparent;\n",
              "    border-bottom-color: var(--fill-color);\n",
              "    animation:\n",
              "      spin 1s steps(1) infinite;\n",
              "  }\n",
              "\n",
              "  @keyframes spin {\n",
              "    0% {\n",
              "      border-color: transparent;\n",
              "      border-bottom-color: var(--fill-color);\n",
              "      border-left-color: var(--fill-color);\n",
              "    }\n",
              "    20% {\n",
              "      border-color: transparent;\n",
              "      border-left-color: var(--fill-color);\n",
              "      border-top-color: var(--fill-color);\n",
              "    }\n",
              "    30% {\n",
              "      border-color: transparent;\n",
              "      border-left-color: var(--fill-color);\n",
              "      border-top-color: var(--fill-color);\n",
              "      border-right-color: var(--fill-color);\n",
              "    }\n",
              "    40% {\n",
              "      border-color: transparent;\n",
              "      border-right-color: var(--fill-color);\n",
              "      border-top-color: var(--fill-color);\n",
              "    }\n",
              "    60% {\n",
              "      border-color: transparent;\n",
              "      border-right-color: var(--fill-color);\n",
              "    }\n",
              "    80% {\n",
              "      border-color: transparent;\n",
              "      border-right-color: var(--fill-color);\n",
              "      border-bottom-color: var(--fill-color);\n",
              "    }\n",
              "    90% {\n",
              "      border-color: transparent;\n",
              "      border-bottom-color: var(--fill-color);\n",
              "    }\n",
              "  }\n",
              "</style>\n",
              "\n",
              "  <script>\n",
              "    async function quickchart(key) {\n",
              "      const quickchartButtonEl =\n",
              "        document.querySelector('#' + key + ' button');\n",
              "      quickchartButtonEl.disabled = true;  // To prevent multiple clicks.\n",
              "      quickchartButtonEl.classList.add('colab-df-spinner');\n",
              "      try {\n",
              "        const charts = await google.colab.kernel.invokeFunction(\n",
              "            'suggestCharts', [key], {});\n",
              "      } catch (error) {\n",
              "        console.error('Error during call to suggestCharts:', error);\n",
              "      }\n",
              "      quickchartButtonEl.classList.remove('colab-df-spinner');\n",
              "      quickchartButtonEl.classList.add('colab-df-quickchart-complete');\n",
              "    }\n",
              "    (() => {\n",
              "      let quickchartButtonEl =\n",
              "        document.querySelector('#df-a0808f9d-c483-4715-8e18-8e8e5d1964a7 button');\n",
              "      quickchartButtonEl.style.display =\n",
              "        google.colab.kernel.accessAllowed ? 'block' : 'none';\n",
              "    })();\n",
              "  </script>\n",
              "</div>\n",
              "\n",
              "    </div>\n",
              "  </div>\n"
            ],
            "application/vnd.google.colaboratory.intrinsic+json": {
              "type": "dataframe",
              "variable_name": "data",
              "summary": "{\n  \"name\": \"data\",\n  \"rows\": 2291,\n  \"fields\": [\n    {\n      \"column\": \"Datetime\",\n      \"properties\": {\n        \"dtype\": \"object\",\n        \"num_unique_values\": 2291,\n        \"samples\": [\n          \"2019-11-27 21:17:45.108096\",\n          \"2019-02-11 03:27:09.436608\",\n          \"2019-02-10 03:48:29.752416\"\n        ],\n        \"semantic_type\": \"\",\n        \"description\": \"\"\n      }\n    },\n    {\n      \"column\": \"SMA\",\n      \"properties\": {\n        \"dtype\": \"number\",\n        \"std\": 4.251829290939007,\n        \"min\": 6863.80687088211,\n        \"max\": 6873.48252340135,\n        \"num_unique_values\": 2249,\n        \"samples\": [\n          6872.97686953089,\n          6864.5716581169,\n          6873.00474679316\n        ],\n        \"semantic_type\": \"\",\n        \"description\": \"\"\n      }\n    }\n  ]\n}"
            }
          },
          "metadata": {},
          "execution_count": 4
        }
      ]
    },
    {
      "cell_type": "code",
      "source": [
        "# Here check dataset shape:\n",
        "data.shape"
      ],
      "metadata": {
        "colab": {
          "base_uri": "https://localhost:8080/"
        },
        "id": "0-I3jdn65Sjd",
        "outputId": "4d17801d-268f-45b7-c8e1-ace91a453663"
      },
      "execution_count": 5,
      "outputs": [
        {
          "output_type": "execute_result",
          "data": {
            "text/plain": [
              "(2291, 2)"
            ]
          },
          "metadata": {},
          "execution_count": 5
        }
      ]
    },
    {
      "cell_type": "code",
      "source": [
        "# Information about dataste:\n",
        "data.info()"
      ],
      "metadata": {
        "colab": {
          "base_uri": "https://localhost:8080/"
        },
        "id": "BXp2lbYZ5vQS",
        "outputId": "7e8af2e1-3d00-4bb2-dc9a-97499eeeefc6"
      },
      "execution_count": 6,
      "outputs": [
        {
          "output_type": "stream",
          "name": "stdout",
          "text": [
            "<class 'pandas.core.frame.DataFrame'>\n",
            "RangeIndex: 2291 entries, 0 to 2290\n",
            "Data columns (total 2 columns):\n",
            " #   Column    Non-Null Count  Dtype  \n",
            "---  ------    --------------  -----  \n",
            " 0   Datetime  2291 non-null   object \n",
            " 1   SMA       2291 non-null   float64\n",
            "dtypes: float64(1), object(1)\n",
            "memory usage: 35.9+ KB\n"
          ]
        }
      ]
    },
    {
      "cell_type": "code",
      "source": [
        "# Here Checking Null Values:\n",
        "data.isnull().sum()"
      ],
      "metadata": {
        "colab": {
          "base_uri": "https://localhost:8080/",
          "height": 147
        },
        "id": "knqWlm7o5Vwz",
        "outputId": "501d4bfe-3b0e-464e-e5ce-49834d4bab54"
      },
      "execution_count": 7,
      "outputs": [
        {
          "output_type": "execute_result",
          "data": {
            "text/plain": [
              "Datetime    0\n",
              "SMA         0\n",
              "dtype: int64"
            ],
            "text/html": [
              "<div>\n",
              "<style scoped>\n",
              "    .dataframe tbody tr th:only-of-type {\n",
              "        vertical-align: middle;\n",
              "    }\n",
              "\n",
              "    .dataframe tbody tr th {\n",
              "        vertical-align: top;\n",
              "    }\n",
              "\n",
              "    .dataframe thead th {\n",
              "        text-align: right;\n",
              "    }\n",
              "</style>\n",
              "<table border=\"1\" class=\"dataframe\">\n",
              "  <thead>\n",
              "    <tr style=\"text-align: right;\">\n",
              "      <th></th>\n",
              "      <th>0</th>\n",
              "    </tr>\n",
              "  </thead>\n",
              "  <tbody>\n",
              "    <tr>\n",
              "      <th>Datetime</th>\n",
              "      <td>0</td>\n",
              "    </tr>\n",
              "    <tr>\n",
              "      <th>SMA</th>\n",
              "      <td>0</td>\n",
              "    </tr>\n",
              "  </tbody>\n",
              "</table>\n",
              "</div><br><label><b>dtype:</b> int64</label>"
            ]
          },
          "metadata": {},
          "execution_count": 7
        }
      ]
    },
    {
      "cell_type": "code",
      "source": [
        "# See the columns name:\n",
        "print(data.columns)"
      ],
      "metadata": {
        "colab": {
          "base_uri": "https://localhost:8080/"
        },
        "id": "MZgoWtjG5pI6",
        "outputId": "2046a8d0-4816-494f-8d7e-08f70b737664"
      },
      "execution_count": 8,
      "outputs": [
        {
          "output_type": "stream",
          "name": "stdout",
          "text": [
            "Index(['Datetime', 'SMA'], dtype='object')\n"
          ]
        }
      ]
    },
    {
      "cell_type": "code",
      "source": [
        "# Convert to datetime format:\n",
        "data['Datetime'] = pd.to_datetime(data['Datetime'])\n",
        "data = data.sort_values('Datetime')  # Sort by datetime"
      ],
      "metadata": {
        "id": "V37TCOR12-pw"
      },
      "execution_count": 9,
      "outputs": []
    },
    {
      "cell_type": "markdown",
      "source": [
        "### Convert to datetime format:\n",
        "#### This line converts the 'Datetime' column in your DataFrame to a datetime object.\n",
        "#### This is crucial for time series analysis, as it allows you to perform operations\n",
        "#### like sorting, calculating time differences, and extracting date/time components.\n",
        "#### This line sorts the DataFrame based on the 'Datetime' column.\n",
        "#### Sorting by datetime is essential for time series data to ensure that the data\n",
        "#### is in chronological order, which is necessary for many time series analysis techniques."
      ],
      "metadata": {
        "id": "VSrcn0wLlqZx"
      }
    },
    {
      "cell_type": "code",
      "source": [
        "# Calculate the difference between consecutive SMA values:\n",
        "data['SMA_diff'] = data['SMA'].diff()\n",
        "data['SMA_diff_abs'] = data['SMA_diff'].abs()  # Take the absolute value"
      ],
      "metadata": {
        "id": "uGi8cIa22-sQ"
      },
      "execution_count": 10,
      "outputs": []
    },
    {
      "cell_type": "markdown",
      "source": [
        "#### This code calculates the difference between consecutive SMA values.\n",
        "#### It creates a new column 'SMA_diff' which stores the difference between the current SMA value and the previous one.\n",
        "#### Then, it calculates the absolute value of the difference and stores it in a new column 'SMA_diff_abs'.\n",
        "#### This is useful for analyzing the volatility or rate of change of the SMA.\n",
        "#### For example, you can use this to identify periods of high or low volatility, or to detect significant changes in the SMA trend."
      ],
      "metadata": {
        "id": "cysA2C18mLPU"
      }
    },
    {
      "cell_type": "code",
      "source": [
        "# Rechecking dataset\n",
        "data.head()"
      ],
      "metadata": {
        "colab": {
          "base_uri": "https://localhost:8080/",
          "height": 206
        },
        "id": "fCSxlRp6n5dd",
        "outputId": "87e5d54a-e06c-4578-cac0-516f82861ccf"
      },
      "execution_count": 11,
      "outputs": [
        {
          "output_type": "execute_result",
          "data": {
            "text/plain": [
              "                    Datetime          SMA  SMA_diff  SMA_diff_abs\n",
              "0 2018-01-01 04:34:10.320672  6864.691463       NaN           NaN\n",
              "1 2018-01-01 12:37:36.596064  6864.689664 -0.001799      0.001799\n",
              "2 2018-01-01 20:31:55.898112  6864.688585 -0.001079      0.001079\n",
              "3 2018-01-02 05:42:49.014720  6864.684927 -0.003658      0.003658\n",
              "4 2018-01-02 12:13:01.263360  6864.682858 -0.002069      0.002069"
            ],
            "text/html": [
              "\n",
              "  <div id=\"df-bfdbc4bd-7d04-4155-b068-dc6457b4dc3a\" class=\"colab-df-container\">\n",
              "    <div>\n",
              "<style scoped>\n",
              "    .dataframe tbody tr th:only-of-type {\n",
              "        vertical-align: middle;\n",
              "    }\n",
              "\n",
              "    .dataframe tbody tr th {\n",
              "        vertical-align: top;\n",
              "    }\n",
              "\n",
              "    .dataframe thead th {\n",
              "        text-align: right;\n",
              "    }\n",
              "</style>\n",
              "<table border=\"1\" class=\"dataframe\">\n",
              "  <thead>\n",
              "    <tr style=\"text-align: right;\">\n",
              "      <th></th>\n",
              "      <th>Datetime</th>\n",
              "      <th>SMA</th>\n",
              "      <th>SMA_diff</th>\n",
              "      <th>SMA_diff_abs</th>\n",
              "    </tr>\n",
              "  </thead>\n",
              "  <tbody>\n",
              "    <tr>\n",
              "      <th>0</th>\n",
              "      <td>2018-01-01 04:34:10.320672</td>\n",
              "      <td>6864.691463</td>\n",
              "      <td>NaN</td>\n",
              "      <td>NaN</td>\n",
              "    </tr>\n",
              "    <tr>\n",
              "      <th>1</th>\n",
              "      <td>2018-01-01 12:37:36.596064</td>\n",
              "      <td>6864.689664</td>\n",
              "      <td>-0.001799</td>\n",
              "      <td>0.001799</td>\n",
              "    </tr>\n",
              "    <tr>\n",
              "      <th>2</th>\n",
              "      <td>2018-01-01 20:31:55.898112</td>\n",
              "      <td>6864.688585</td>\n",
              "      <td>-0.001079</td>\n",
              "      <td>0.001079</td>\n",
              "    </tr>\n",
              "    <tr>\n",
              "      <th>3</th>\n",
              "      <td>2018-01-02 05:42:49.014720</td>\n",
              "      <td>6864.684927</td>\n",
              "      <td>-0.003658</td>\n",
              "      <td>0.003658</td>\n",
              "    </tr>\n",
              "    <tr>\n",
              "      <th>4</th>\n",
              "      <td>2018-01-02 12:13:01.263360</td>\n",
              "      <td>6864.682858</td>\n",
              "      <td>-0.002069</td>\n",
              "      <td>0.002069</td>\n",
              "    </tr>\n",
              "  </tbody>\n",
              "</table>\n",
              "</div>\n",
              "    <div class=\"colab-df-buttons\">\n",
              "\n",
              "  <div class=\"colab-df-container\">\n",
              "    <button class=\"colab-df-convert\" onclick=\"convertToInteractive('df-bfdbc4bd-7d04-4155-b068-dc6457b4dc3a')\"\n",
              "            title=\"Convert this dataframe to an interactive table.\"\n",
              "            style=\"display:none;\">\n",
              "\n",
              "  <svg xmlns=\"http://www.w3.org/2000/svg\" height=\"24px\" viewBox=\"0 -960 960 960\">\n",
              "    <path d=\"M120-120v-720h720v720H120Zm60-500h600v-160H180v160Zm220 220h160v-160H400v160Zm0 220h160v-160H400v160ZM180-400h160v-160H180v160Zm440 0h160v-160H620v160ZM180-180h160v-160H180v160Zm440 0h160v-160H620v160Z\"/>\n",
              "  </svg>\n",
              "    </button>\n",
              "\n",
              "  <style>\n",
              "    .colab-df-container {\n",
              "      display:flex;\n",
              "      gap: 12px;\n",
              "    }\n",
              "\n",
              "    .colab-df-convert {\n",
              "      background-color: #E8F0FE;\n",
              "      border: none;\n",
              "      border-radius: 50%;\n",
              "      cursor: pointer;\n",
              "      display: none;\n",
              "      fill: #1967D2;\n",
              "      height: 32px;\n",
              "      padding: 0 0 0 0;\n",
              "      width: 32px;\n",
              "    }\n",
              "\n",
              "    .colab-df-convert:hover {\n",
              "      background-color: #E2EBFA;\n",
              "      box-shadow: 0px 1px 2px rgba(60, 64, 67, 0.3), 0px 1px 3px 1px rgba(60, 64, 67, 0.15);\n",
              "      fill: #174EA6;\n",
              "    }\n",
              "\n",
              "    .colab-df-buttons div {\n",
              "      margin-bottom: 4px;\n",
              "    }\n",
              "\n",
              "    [theme=dark] .colab-df-convert {\n",
              "      background-color: #3B4455;\n",
              "      fill: #D2E3FC;\n",
              "    }\n",
              "\n",
              "    [theme=dark] .colab-df-convert:hover {\n",
              "      background-color: #434B5C;\n",
              "      box-shadow: 0px 1px 3px 1px rgba(0, 0, 0, 0.15);\n",
              "      filter: drop-shadow(0px 1px 2px rgba(0, 0, 0, 0.3));\n",
              "      fill: #FFFFFF;\n",
              "    }\n",
              "  </style>\n",
              "\n",
              "    <script>\n",
              "      const buttonEl =\n",
              "        document.querySelector('#df-bfdbc4bd-7d04-4155-b068-dc6457b4dc3a button.colab-df-convert');\n",
              "      buttonEl.style.display =\n",
              "        google.colab.kernel.accessAllowed ? 'block' : 'none';\n",
              "\n",
              "      async function convertToInteractive(key) {\n",
              "        const element = document.querySelector('#df-bfdbc4bd-7d04-4155-b068-dc6457b4dc3a');\n",
              "        const dataTable =\n",
              "          await google.colab.kernel.invokeFunction('convertToInteractive',\n",
              "                                                    [key], {});\n",
              "        if (!dataTable) return;\n",
              "\n",
              "        const docLinkHtml = 'Like what you see? Visit the ' +\n",
              "          '<a target=\"_blank\" href=https://colab.research.google.com/notebooks/data_table.ipynb>data table notebook</a>'\n",
              "          + ' to learn more about interactive tables.';\n",
              "        element.innerHTML = '';\n",
              "        dataTable['output_type'] = 'display_data';\n",
              "        await google.colab.output.renderOutput(dataTable, element);\n",
              "        const docLink = document.createElement('div');\n",
              "        docLink.innerHTML = docLinkHtml;\n",
              "        element.appendChild(docLink);\n",
              "      }\n",
              "    </script>\n",
              "  </div>\n",
              "\n",
              "\n",
              "<div id=\"df-ee3b6dd0-17a3-4aa5-b799-9d23e8441f14\">\n",
              "  <button class=\"colab-df-quickchart\" onclick=\"quickchart('df-ee3b6dd0-17a3-4aa5-b799-9d23e8441f14')\"\n",
              "            title=\"Suggest charts\"\n",
              "            style=\"display:none;\">\n",
              "\n",
              "<svg xmlns=\"http://www.w3.org/2000/svg\" height=\"24px\"viewBox=\"0 0 24 24\"\n",
              "     width=\"24px\">\n",
              "    <g>\n",
              "        <path d=\"M19 3H5c-1.1 0-2 .9-2 2v14c0 1.1.9 2 2 2h14c1.1 0 2-.9 2-2V5c0-1.1-.9-2-2-2zM9 17H7v-7h2v7zm4 0h-2V7h2v10zm4 0h-2v-4h2v4z\"/>\n",
              "    </g>\n",
              "</svg>\n",
              "  </button>\n",
              "\n",
              "<style>\n",
              "  .colab-df-quickchart {\n",
              "      --bg-color: #E8F0FE;\n",
              "      --fill-color: #1967D2;\n",
              "      --hover-bg-color: #E2EBFA;\n",
              "      --hover-fill-color: #174EA6;\n",
              "      --disabled-fill-color: #AAA;\n",
              "      --disabled-bg-color: #DDD;\n",
              "  }\n",
              "\n",
              "  [theme=dark] .colab-df-quickchart {\n",
              "      --bg-color: #3B4455;\n",
              "      --fill-color: #D2E3FC;\n",
              "      --hover-bg-color: #434B5C;\n",
              "      --hover-fill-color: #FFFFFF;\n",
              "      --disabled-bg-color: #3B4455;\n",
              "      --disabled-fill-color: #666;\n",
              "  }\n",
              "\n",
              "  .colab-df-quickchart {\n",
              "    background-color: var(--bg-color);\n",
              "    border: none;\n",
              "    border-radius: 50%;\n",
              "    cursor: pointer;\n",
              "    display: none;\n",
              "    fill: var(--fill-color);\n",
              "    height: 32px;\n",
              "    padding: 0;\n",
              "    width: 32px;\n",
              "  }\n",
              "\n",
              "  .colab-df-quickchart:hover {\n",
              "    background-color: var(--hover-bg-color);\n",
              "    box-shadow: 0 1px 2px rgba(60, 64, 67, 0.3), 0 1px 3px 1px rgba(60, 64, 67, 0.15);\n",
              "    fill: var(--button-hover-fill-color);\n",
              "  }\n",
              "\n",
              "  .colab-df-quickchart-complete:disabled,\n",
              "  .colab-df-quickchart-complete:disabled:hover {\n",
              "    background-color: var(--disabled-bg-color);\n",
              "    fill: var(--disabled-fill-color);\n",
              "    box-shadow: none;\n",
              "  }\n",
              "\n",
              "  .colab-df-spinner {\n",
              "    border: 2px solid var(--fill-color);\n",
              "    border-color: transparent;\n",
              "    border-bottom-color: var(--fill-color);\n",
              "    animation:\n",
              "      spin 1s steps(1) infinite;\n",
              "  }\n",
              "\n",
              "  @keyframes spin {\n",
              "    0% {\n",
              "      border-color: transparent;\n",
              "      border-bottom-color: var(--fill-color);\n",
              "      border-left-color: var(--fill-color);\n",
              "    }\n",
              "    20% {\n",
              "      border-color: transparent;\n",
              "      border-left-color: var(--fill-color);\n",
              "      border-top-color: var(--fill-color);\n",
              "    }\n",
              "    30% {\n",
              "      border-color: transparent;\n",
              "      border-left-color: var(--fill-color);\n",
              "      border-top-color: var(--fill-color);\n",
              "      border-right-color: var(--fill-color);\n",
              "    }\n",
              "    40% {\n",
              "      border-color: transparent;\n",
              "      border-right-color: var(--fill-color);\n",
              "      border-top-color: var(--fill-color);\n",
              "    }\n",
              "    60% {\n",
              "      border-color: transparent;\n",
              "      border-right-color: var(--fill-color);\n",
              "    }\n",
              "    80% {\n",
              "      border-color: transparent;\n",
              "      border-right-color: var(--fill-color);\n",
              "      border-bottom-color: var(--fill-color);\n",
              "    }\n",
              "    90% {\n",
              "      border-color: transparent;\n",
              "      border-bottom-color: var(--fill-color);\n",
              "    }\n",
              "  }\n",
              "</style>\n",
              "\n",
              "  <script>\n",
              "    async function quickchart(key) {\n",
              "      const quickchartButtonEl =\n",
              "        document.querySelector('#' + key + ' button');\n",
              "      quickchartButtonEl.disabled = true;  // To prevent multiple clicks.\n",
              "      quickchartButtonEl.classList.add('colab-df-spinner');\n",
              "      try {\n",
              "        const charts = await google.colab.kernel.invokeFunction(\n",
              "            'suggestCharts', [key], {});\n",
              "      } catch (error) {\n",
              "        console.error('Error during call to suggestCharts:', error);\n",
              "      }\n",
              "      quickchartButtonEl.classList.remove('colab-df-spinner');\n",
              "      quickchartButtonEl.classList.add('colab-df-quickchart-complete');\n",
              "    }\n",
              "    (() => {\n",
              "      let quickchartButtonEl =\n",
              "        document.querySelector('#df-ee3b6dd0-17a3-4aa5-b799-9d23e8441f14 button');\n",
              "      quickchartButtonEl.style.display =\n",
              "        google.colab.kernel.accessAllowed ? 'block' : 'none';\n",
              "    })();\n",
              "  </script>\n",
              "</div>\n",
              "\n",
              "    </div>\n",
              "  </div>\n"
            ],
            "application/vnd.google.colaboratory.intrinsic+json": {
              "type": "dataframe",
              "variable_name": "data",
              "summary": "{\n  \"name\": \"data\",\n  \"rows\": 2291,\n  \"fields\": [\n    {\n      \"column\": \"Datetime\",\n      \"properties\": {\n        \"dtype\": \"date\",\n        \"min\": \"2018-01-01 04:34:10.320672\",\n        \"max\": \"2019-12-31 18:43:37.271136\",\n        \"num_unique_values\": 2291,\n        \"samples\": [\n          \"2019-11-27 21:17:45.108096\",\n          \"2019-02-11 03:27:09.436608\",\n          \"2019-02-10 03:48:29.752416\"\n        ],\n        \"semantic_type\": \"\",\n        \"description\": \"\"\n      }\n    },\n    {\n      \"column\": \"SMA\",\n      \"properties\": {\n        \"dtype\": \"number\",\n        \"std\": 4.251829290939007,\n        \"min\": 6863.80687088211,\n        \"max\": 6873.48252340135,\n        \"num_unique_values\": 2249,\n        \"samples\": [\n          6872.97686953089,\n          6864.5716581169,\n          6873.00474679316\n        ],\n        \"semantic_type\": \"\",\n        \"description\": \"\"\n      }\n    },\n    {\n      \"column\": \"SMA_diff\",\n      \"properties\": {\n        \"dtype\": \"number\",\n        \"std\": 0.1287452778753178,\n        \"min\": -0.2588084754997908,\n        \"max\": 5.101008956229634,\n        \"num_unique_values\": 2285,\n        \"samples\": [\n          -0.0019546863995856256,\n          -0.00014987554004619597,\n          -0.003956859320169315\n        ],\n        \"semantic_type\": \"\",\n        \"description\": \"\"\n      }\n    },\n    {\n      \"column\": \"SMA_diff_abs\",\n      \"properties\": {\n        \"dtype\": \"number\",\n        \"std\": 0.12855430915253457,\n        \"min\": 0.0,\n        \"max\": 5.101008956229634,\n        \"num_unique_values\": 2284,\n        \"samples\": [\n          0.9119159565298105,\n          0.00015036598961160053,\n          0.0005112310900585726\n        ],\n        \"semantic_type\": \"\",\n        \"description\": \"\"\n      }\n    }\n  ]\n}"
            }
          },
          "metadata": {},
          "execution_count": 11
        }
      ]
    },
    {
      "cell_type": "code",
      "source": [
        "# Drop rows with NaN values in 'SMA_diff' column\n",
        "data.dropna(subset=['SMA_diff'], inplace=True)"
      ],
      "metadata": {
        "id": "q7MqA0e8pKBL"
      },
      "execution_count": 12,
      "outputs": []
    },
    {
      "cell_type": "code",
      "source": [
        "# Maneuver Detection (Heuristic Approach):\n",
        "def detect_maneuvers(data, threshold_factor=3):\n",
        "\n",
        "    threshold = data['SMA_diff_abs'].mean() + threshold_factor * data['SMA_diff_abs'].std()  # Threshold calculation\n",
        "    data['Detected_Maneuver'] = np.where(data['SMA_diff_abs'] > threshold, 1, 0)\n",
        "    return data, threshold"
      ],
      "metadata": {
        "id": "4Cr6AqeO2-3B"
      },
      "execution_count": 13,
      "outputs": []
    },
    {
      "cell_type": "markdown",
      "source": [
        "### This code defines a function to detect maneuvers in a time series dataset.\n",
        "\n",
        "### It takes two arguments:\n",
        "####   - data: The pandas DataFrame containing the time series data.\n",
        "####   - threshold_factor: A factor that multiplies the standard deviation to determine the threshold.\n",
        "####     This factor controls the sensitivity of the maneuver detection. Higher values make the detection\n",
        "####     more strict, while lower values make it more sensitive.\n",
        "\n",
        "#### The function works as follows:\n",
        "#### 1. Calculate the threshold:\n",
        "####    - It calculates the mean of the absolute differences between consecutive SMA values ('SMA_diff_abs').\n",
        "####    - It calculates the standard deviation of the absolute differences.\n",
        "####    - It then adds the threshold factor multiplied by the standard deviation to the mean. This creates a threshold value.\n",
        "#### 2. Detect maneuvers:\n",
        "####    - It uses `np.where` to create a new column 'Detected_Maneuver' in the DataFrame.\n",
        "####    - If the absolute difference between consecutive SMA values ('SMA_diff_abs') is greater than the calculated threshold, it assigns  a value of 1 (indicating a maneuver) to the 'Detected_Maneuver' column.\n",
        "####    - Otherwise, it assigns a value of 0 (no maneuver).\n",
        "#### 3. Return the updated DataFrame and the threshold value.\n",
        "\n",
        "#### In essence, this code defines a heuristic approach to detect maneuvers by identifying significant changes in the SMA values.\n",
        "#### It uses the mean and standard deviation of the absolute differences to determine a threshold and then flags any differences\n",
        "#### exceeding this threshold as a maneuver."
      ],
      "metadata": {
        "id": "j0wUxEu_mm9z"
      }
    },
    {
      "cell_type": "code",
      "source": [
        "data.head()"
      ],
      "metadata": {
        "colab": {
          "base_uri": "https://localhost:8080/",
          "height": 206
        },
        "id": "SJMKkqldoXW9",
        "outputId": "ebc8d2c4-da41-4935-85ba-b63a8501427d"
      },
      "execution_count": 14,
      "outputs": [
        {
          "output_type": "execute_result",
          "data": {
            "text/plain": [
              "                    Datetime          SMA  SMA_diff  SMA_diff_abs\n",
              "1 2018-01-01 12:37:36.596064  6864.689664 -0.001799      0.001799\n",
              "2 2018-01-01 20:31:55.898112  6864.688585 -0.001079      0.001079\n",
              "3 2018-01-02 05:42:49.014720  6864.684927 -0.003658      0.003658\n",
              "4 2018-01-02 12:13:01.263360  6864.682858 -0.002069      0.002069\n",
              "5 2018-01-02 21:38:45.514752  6864.681269 -0.001589      0.001589"
            ],
            "text/html": [
              "\n",
              "  <div id=\"df-c37068df-5540-42ab-9223-0af5902d8fc0\" class=\"colab-df-container\">\n",
              "    <div>\n",
              "<style scoped>\n",
              "    .dataframe tbody tr th:only-of-type {\n",
              "        vertical-align: middle;\n",
              "    }\n",
              "\n",
              "    .dataframe tbody tr th {\n",
              "        vertical-align: top;\n",
              "    }\n",
              "\n",
              "    .dataframe thead th {\n",
              "        text-align: right;\n",
              "    }\n",
              "</style>\n",
              "<table border=\"1\" class=\"dataframe\">\n",
              "  <thead>\n",
              "    <tr style=\"text-align: right;\">\n",
              "      <th></th>\n",
              "      <th>Datetime</th>\n",
              "      <th>SMA</th>\n",
              "      <th>SMA_diff</th>\n",
              "      <th>SMA_diff_abs</th>\n",
              "    </tr>\n",
              "  </thead>\n",
              "  <tbody>\n",
              "    <tr>\n",
              "      <th>1</th>\n",
              "      <td>2018-01-01 12:37:36.596064</td>\n",
              "      <td>6864.689664</td>\n",
              "      <td>-0.001799</td>\n",
              "      <td>0.001799</td>\n",
              "    </tr>\n",
              "    <tr>\n",
              "      <th>2</th>\n",
              "      <td>2018-01-01 20:31:55.898112</td>\n",
              "      <td>6864.688585</td>\n",
              "      <td>-0.001079</td>\n",
              "      <td>0.001079</td>\n",
              "    </tr>\n",
              "    <tr>\n",
              "      <th>3</th>\n",
              "      <td>2018-01-02 05:42:49.014720</td>\n",
              "      <td>6864.684927</td>\n",
              "      <td>-0.003658</td>\n",
              "      <td>0.003658</td>\n",
              "    </tr>\n",
              "    <tr>\n",
              "      <th>4</th>\n",
              "      <td>2018-01-02 12:13:01.263360</td>\n",
              "      <td>6864.682858</td>\n",
              "      <td>-0.002069</td>\n",
              "      <td>0.002069</td>\n",
              "    </tr>\n",
              "    <tr>\n",
              "      <th>5</th>\n",
              "      <td>2018-01-02 21:38:45.514752</td>\n",
              "      <td>6864.681269</td>\n",
              "      <td>-0.001589</td>\n",
              "      <td>0.001589</td>\n",
              "    </tr>\n",
              "  </tbody>\n",
              "</table>\n",
              "</div>\n",
              "    <div class=\"colab-df-buttons\">\n",
              "\n",
              "  <div class=\"colab-df-container\">\n",
              "    <button class=\"colab-df-convert\" onclick=\"convertToInteractive('df-c37068df-5540-42ab-9223-0af5902d8fc0')\"\n",
              "            title=\"Convert this dataframe to an interactive table.\"\n",
              "            style=\"display:none;\">\n",
              "\n",
              "  <svg xmlns=\"http://www.w3.org/2000/svg\" height=\"24px\" viewBox=\"0 -960 960 960\">\n",
              "    <path d=\"M120-120v-720h720v720H120Zm60-500h600v-160H180v160Zm220 220h160v-160H400v160Zm0 220h160v-160H400v160ZM180-400h160v-160H180v160Zm440 0h160v-160H620v160ZM180-180h160v-160H180v160Zm440 0h160v-160H620v160Z\"/>\n",
              "  </svg>\n",
              "    </button>\n",
              "\n",
              "  <style>\n",
              "    .colab-df-container {\n",
              "      display:flex;\n",
              "      gap: 12px;\n",
              "    }\n",
              "\n",
              "    .colab-df-convert {\n",
              "      background-color: #E8F0FE;\n",
              "      border: none;\n",
              "      border-radius: 50%;\n",
              "      cursor: pointer;\n",
              "      display: none;\n",
              "      fill: #1967D2;\n",
              "      height: 32px;\n",
              "      padding: 0 0 0 0;\n",
              "      width: 32px;\n",
              "    }\n",
              "\n",
              "    .colab-df-convert:hover {\n",
              "      background-color: #E2EBFA;\n",
              "      box-shadow: 0px 1px 2px rgba(60, 64, 67, 0.3), 0px 1px 3px 1px rgba(60, 64, 67, 0.15);\n",
              "      fill: #174EA6;\n",
              "    }\n",
              "\n",
              "    .colab-df-buttons div {\n",
              "      margin-bottom: 4px;\n",
              "    }\n",
              "\n",
              "    [theme=dark] .colab-df-convert {\n",
              "      background-color: #3B4455;\n",
              "      fill: #D2E3FC;\n",
              "    }\n",
              "\n",
              "    [theme=dark] .colab-df-convert:hover {\n",
              "      background-color: #434B5C;\n",
              "      box-shadow: 0px 1px 3px 1px rgba(0, 0, 0, 0.15);\n",
              "      filter: drop-shadow(0px 1px 2px rgba(0, 0, 0, 0.3));\n",
              "      fill: #FFFFFF;\n",
              "    }\n",
              "  </style>\n",
              "\n",
              "    <script>\n",
              "      const buttonEl =\n",
              "        document.querySelector('#df-c37068df-5540-42ab-9223-0af5902d8fc0 button.colab-df-convert');\n",
              "      buttonEl.style.display =\n",
              "        google.colab.kernel.accessAllowed ? 'block' : 'none';\n",
              "\n",
              "      async function convertToInteractive(key) {\n",
              "        const element = document.querySelector('#df-c37068df-5540-42ab-9223-0af5902d8fc0');\n",
              "        const dataTable =\n",
              "          await google.colab.kernel.invokeFunction('convertToInteractive',\n",
              "                                                    [key], {});\n",
              "        if (!dataTable) return;\n",
              "\n",
              "        const docLinkHtml = 'Like what you see? Visit the ' +\n",
              "          '<a target=\"_blank\" href=https://colab.research.google.com/notebooks/data_table.ipynb>data table notebook</a>'\n",
              "          + ' to learn more about interactive tables.';\n",
              "        element.innerHTML = '';\n",
              "        dataTable['output_type'] = 'display_data';\n",
              "        await google.colab.output.renderOutput(dataTable, element);\n",
              "        const docLink = document.createElement('div');\n",
              "        docLink.innerHTML = docLinkHtml;\n",
              "        element.appendChild(docLink);\n",
              "      }\n",
              "    </script>\n",
              "  </div>\n",
              "\n",
              "\n",
              "<div id=\"df-2e177857-257b-4f35-939f-f0b584d02da5\">\n",
              "  <button class=\"colab-df-quickchart\" onclick=\"quickchart('df-2e177857-257b-4f35-939f-f0b584d02da5')\"\n",
              "            title=\"Suggest charts\"\n",
              "            style=\"display:none;\">\n",
              "\n",
              "<svg xmlns=\"http://www.w3.org/2000/svg\" height=\"24px\"viewBox=\"0 0 24 24\"\n",
              "     width=\"24px\">\n",
              "    <g>\n",
              "        <path d=\"M19 3H5c-1.1 0-2 .9-2 2v14c0 1.1.9 2 2 2h14c1.1 0 2-.9 2-2V5c0-1.1-.9-2-2-2zM9 17H7v-7h2v7zm4 0h-2V7h2v10zm4 0h-2v-4h2v4z\"/>\n",
              "    </g>\n",
              "</svg>\n",
              "  </button>\n",
              "\n",
              "<style>\n",
              "  .colab-df-quickchart {\n",
              "      --bg-color: #E8F0FE;\n",
              "      --fill-color: #1967D2;\n",
              "      --hover-bg-color: #E2EBFA;\n",
              "      --hover-fill-color: #174EA6;\n",
              "      --disabled-fill-color: #AAA;\n",
              "      --disabled-bg-color: #DDD;\n",
              "  }\n",
              "\n",
              "  [theme=dark] .colab-df-quickchart {\n",
              "      --bg-color: #3B4455;\n",
              "      --fill-color: #D2E3FC;\n",
              "      --hover-bg-color: #434B5C;\n",
              "      --hover-fill-color: #FFFFFF;\n",
              "      --disabled-bg-color: #3B4455;\n",
              "      --disabled-fill-color: #666;\n",
              "  }\n",
              "\n",
              "  .colab-df-quickchart {\n",
              "    background-color: var(--bg-color);\n",
              "    border: none;\n",
              "    border-radius: 50%;\n",
              "    cursor: pointer;\n",
              "    display: none;\n",
              "    fill: var(--fill-color);\n",
              "    height: 32px;\n",
              "    padding: 0;\n",
              "    width: 32px;\n",
              "  }\n",
              "\n",
              "  .colab-df-quickchart:hover {\n",
              "    background-color: var(--hover-bg-color);\n",
              "    box-shadow: 0 1px 2px rgba(60, 64, 67, 0.3), 0 1px 3px 1px rgba(60, 64, 67, 0.15);\n",
              "    fill: var(--button-hover-fill-color);\n",
              "  }\n",
              "\n",
              "  .colab-df-quickchart-complete:disabled,\n",
              "  .colab-df-quickchart-complete:disabled:hover {\n",
              "    background-color: var(--disabled-bg-color);\n",
              "    fill: var(--disabled-fill-color);\n",
              "    box-shadow: none;\n",
              "  }\n",
              "\n",
              "  .colab-df-spinner {\n",
              "    border: 2px solid var(--fill-color);\n",
              "    border-color: transparent;\n",
              "    border-bottom-color: var(--fill-color);\n",
              "    animation:\n",
              "      spin 1s steps(1) infinite;\n",
              "  }\n",
              "\n",
              "  @keyframes spin {\n",
              "    0% {\n",
              "      border-color: transparent;\n",
              "      border-bottom-color: var(--fill-color);\n",
              "      border-left-color: var(--fill-color);\n",
              "    }\n",
              "    20% {\n",
              "      border-color: transparent;\n",
              "      border-left-color: var(--fill-color);\n",
              "      border-top-color: var(--fill-color);\n",
              "    }\n",
              "    30% {\n",
              "      border-color: transparent;\n",
              "      border-left-color: var(--fill-color);\n",
              "      border-top-color: var(--fill-color);\n",
              "      border-right-color: var(--fill-color);\n",
              "    }\n",
              "    40% {\n",
              "      border-color: transparent;\n",
              "      border-right-color: var(--fill-color);\n",
              "      border-top-color: var(--fill-color);\n",
              "    }\n",
              "    60% {\n",
              "      border-color: transparent;\n",
              "      border-right-color: var(--fill-color);\n",
              "    }\n",
              "    80% {\n",
              "      border-color: transparent;\n",
              "      border-right-color: var(--fill-color);\n",
              "      border-bottom-color: var(--fill-color);\n",
              "    }\n",
              "    90% {\n",
              "      border-color: transparent;\n",
              "      border-bottom-color: var(--fill-color);\n",
              "    }\n",
              "  }\n",
              "</style>\n",
              "\n",
              "  <script>\n",
              "    async function quickchart(key) {\n",
              "      const quickchartButtonEl =\n",
              "        document.querySelector('#' + key + ' button');\n",
              "      quickchartButtonEl.disabled = true;  // To prevent multiple clicks.\n",
              "      quickchartButtonEl.classList.add('colab-df-spinner');\n",
              "      try {\n",
              "        const charts = await google.colab.kernel.invokeFunction(\n",
              "            'suggestCharts', [key], {});\n",
              "      } catch (error) {\n",
              "        console.error('Error during call to suggestCharts:', error);\n",
              "      }\n",
              "      quickchartButtonEl.classList.remove('colab-df-spinner');\n",
              "      quickchartButtonEl.classList.add('colab-df-quickchart-complete');\n",
              "    }\n",
              "    (() => {\n",
              "      let quickchartButtonEl =\n",
              "        document.querySelector('#df-2e177857-257b-4f35-939f-f0b584d02da5 button');\n",
              "      quickchartButtonEl.style.display =\n",
              "        google.colab.kernel.accessAllowed ? 'block' : 'none';\n",
              "    })();\n",
              "  </script>\n",
              "</div>\n",
              "\n",
              "    </div>\n",
              "  </div>\n"
            ],
            "application/vnd.google.colaboratory.intrinsic+json": {
              "type": "dataframe",
              "variable_name": "data",
              "summary": "{\n  \"name\": \"data\",\n  \"rows\": 2290,\n  \"fields\": [\n    {\n      \"column\": \"Datetime\",\n      \"properties\": {\n        \"dtype\": \"date\",\n        \"min\": \"2018-01-01 12:37:36.596064\",\n        \"max\": \"2019-12-31 18:43:37.271136\",\n        \"num_unique_values\": 2290,\n        \"samples\": [\n          \"2019-11-27 21:17:45.108096\",\n          \"2019-02-11 03:27:09.436608\",\n          \"2019-02-10 03:48:29.752416\"\n        ],\n        \"semantic_type\": \"\",\n        \"description\": \"\"\n      }\n    },\n    {\n      \"column\": \"SMA\",\n      \"properties\": {\n        \"dtype\": \"number\",\n        \"std\": 4.252319788274953,\n        \"min\": 6863.80687088211,\n        \"max\": 6873.48252340135,\n        \"num_unique_values\": 2249,\n        \"samples\": [\n          6872.97686953089,\n          6864.5716581169,\n          6873.00474679316\n        ],\n        \"semantic_type\": \"\",\n        \"description\": \"\"\n      }\n    },\n    {\n      \"column\": \"SMA_diff\",\n      \"properties\": {\n        \"dtype\": \"number\",\n        \"std\": 0.1287452778753178,\n        \"min\": -0.2588084754997908,\n        \"max\": 5.101008956229634,\n        \"num_unique_values\": 2285,\n        \"samples\": [\n          -0.0019546863995856256,\n          -0.00014987554004619597,\n          -0.003956859320169315\n        ],\n        \"semantic_type\": \"\",\n        \"description\": \"\"\n      }\n    },\n    {\n      \"column\": \"SMA_diff_abs\",\n      \"properties\": {\n        \"dtype\": \"number\",\n        \"std\": 0.12855430915253457,\n        \"min\": 0.0,\n        \"max\": 5.101008956229634,\n        \"num_unique_values\": 2284,\n        \"samples\": [\n          0.9119159565298105,\n          0.00015036598961160053,\n          0.0005112310900585726\n        ],\n        \"semantic_type\": \"\",\n        \"description\": \"\"\n      }\n    }\n  ]\n}"
            }
          },
          "metadata": {},
          "execution_count": 14
        }
      ]
    },
    {
      "source": [
        "# @title Datetime vs SMA_diff\n",
        "def _plot_series(series, series_name, series_index=0):\n",
        "  palette = list(sns.palettes.mpl_palette('Dark2'))\n",
        "  xs = series['Datetime']\n",
        "  ys = series['SMA_diff']\n",
        "\n",
        "  plt.plot(xs, ys, label=series_name, color=palette[series_index % len(palette)])\n",
        "\n",
        "fig, ax = plt.subplots(figsize=(10, 8), layout='constrained')\n",
        "df_sorted = data.sort_values('Datetime', ascending=True)\n",
        "_plot_series(df_sorted, '')\n",
        "sns.despine(fig=fig, ax=ax)\n",
        "plt.xlabel('Datetime')\n",
        "_ = plt.ylabel('SMA_diff')"
      ],
      "cell_type": "code",
      "execution_count": 15,
      "outputs": [
        {
          "output_type": "display_data",
          "data": {
            "text/plain": [
              "<Figure size 1000x800 with 1 Axes>"
            ],
            "image/png": "[encoded data removed]"
          },
          "metadata": {}
        }
      ],
      "metadata": {
        "colab": {
          "base_uri": "https://localhost:8080/",
          "height": 828
        },
        "id": "PL3oXgga1yX-",
        "outputId": "1b16ceb5-8be0-4a35-bd90-29f943dbb751"
      }
    },
    {
      "source": [
        "# @title SMA vs SMA_diff\n",
        "data.plot(kind='scatter', x='SMA', y='SMA_diff', s=32, alpha=.8)\n",
        "plt.gca().spines[['top', 'right',]].set_visible(False)"
      ],
      "cell_type": "code",
      "execution_count": 16,
      "outputs": [
        {
          "output_type": "display_data",
          "data": {
            "text/plain": [
              "<Figure size 640x480 with 1 Axes>"
            ],
            "image/png": "[encoded data removed]"
          },
          "metadata": {}
        }
      ],
      "metadata": {
        "colab": {
          "base_uri": "https://localhost:8080/",
          "height": 449
        },
        "id": "SLlw3PEd1jFH",
        "outputId": "6699e5d2-5731-499c-9f8a-2fc18668c5fa"
      }
    },
    {
      "cell_type": "markdown",
      "source": [
        "### This code creates a scatter plot to visualize the relationship between the semi-major axis (SMA) and the difference in SMA values (SMA_diff).\n",
        "### It helps to understand if there's any correlation between the SMA value and the magnitude of its changes.\n",
        "### This visualization can be useful for identifying potential patterns or outliers in the data that might indicate maneuvers"
      ],
      "metadata": {
        "id": "S3c2HfDO3hfT"
      }
    },
    {
      "cell_type": "code",
      "source": [
        "#  @title  Correlation matrix:\n",
        "corr_matrix = data.corr()\n",
        "\n",
        "# Create the heatmap\n",
        "plt.figure(figsize=(12, 8))\n",
        "sns.heatmap(corr_matrix, annot=True, cmap='coolwarm', fmt=\".2f\")\n",
        "plt.title('Correlation Matrix')\n",
        "plt.show()"
      ],
      "metadata": {
        "colab": {
          "base_uri": "https://localhost:8080/",
          "height": 699
        },
        "id": "FAcPXBBN2ebS",
        "outputId": "51de89d8-bf39-479c-e9a2-2c7a3ff65fb4"
      },
      "execution_count": 17,
      "outputs": [
        {
          "output_type": "display_data",
          "data": {
            "text/plain": [
              "<Figure size 1200x800 with 2 Axes>"
            ],
            "image/png": "[encoded data removed]"
          },
          "metadata": {}
        }
      ]
    },
    {
      "cell_type": "markdown",
      "source": [
        "## This visualization can help identify:\n",
        "### - Strong correlations:  Identify features that have a strong positive or negative relationship.\n",
        "### - Weak correlations:  Identify features that have little or no relationship.\n",
        "### - Redundancy:  Identify features that are highly correlated, which might indicate redundancy in the dataset.\n",
        "### This information can be used to:\n",
        "### - Feature selection:  Select the most relevant features for modeling.\n",
        "### - Data understanding:  Gain a deeper understanding of the relationships between variables.\n",
        "### - Model improvement:  Identify potential issues with the model due to highly correlated features.\n"
      ],
      "metadata": {
        "id": "H8P6ByIi30dl"
      }
    },
    {
      "cell_type": "code",
      "source": [
        "# Result Visualization SMA and Detected Maneuvers:\n",
        "def visualize_results(data, threshold, reference_maneuvers=None):\n",
        "\n",
        "    plt.figure(figsize=(12, 8))\n",
        "    plt.plot(data['Datetime'], data['SMA'], label='SMA', color='blue')  # Plot SMA\n",
        "    plt.scatter(data[data['Detected_Maneuver'] == 1]['Datetime'],\n",
        "                data[data['Detected_Maneuver'] == 1]['SMA'],\n",
        "                color='red', label='Detected Maneuvers', marker='o')\n",
        "# Reference maneuvers:\n",
        "\n",
        "    if reference_maneuvers:\n",
        "        for ref_date in reference_maneuvers:\n",
        "            plt.axvline(pd.to_datetime(ref_date), color='green', linestyle='--', label='Reference Maneuver')\n",
        "\n",
        "    plt.xlabel('DateTime')\n",
        "    plt.ylabel('SMA')\n",
        "    plt.title(f'SMA and Detected Maneuvers (Threshold: {threshold:.3f})')\n",
        "    plt.legend(loc='best')\n",
        "    plt.grid(True)\n",
        "    plt.show()\n",
        "\n",
        "# Detect maneuvers using heuristic approach:\n",
        "data, threshold = detect_maneuvers(data, threshold_factor=3)\n",
        "\n",
        "# Visualize the results with reference maneuvers:\n",
        "reference_maneuvers = ['2018-05-03', '2018-10-11', '2019-03-27', '2019-05-17', '2019-09-11', '2019-11-01']\n",
        "visualize_results(data, threshold, reference_maneuvers)\n"
      ],
      "metadata": {
        "colab": {
          "base_uri": "https://localhost:8080/",
          "height": 718
        },
        "id": "mDQgg_O7GKiu",
        "outputId": "724ca85e-2104-4fbd-d396-5b218e422d7d"
      },
      "execution_count": 18,
      "outputs": [
        {
          "output_type": "display_data",
          "data": {
            "text/plain": [
              "<Figure size 1200x800 with 1 Axes>"
            ],
            "image/png": "[encoded data removed]"
          },
          "metadata": {}
        }
      ]
    },
    {
      "source": [
        "# Compare Detected Maneuvers with Reference Maneuvers:\n",
        "detected_maneuvers = data[data['Detected_Maneuver'] == 1]['Datetime'] # Use 'Detected_Maneuver' instead of 'Maneuver'\n",
        "matches = detected_maneuvers.isin(reference_maneuvers)\n",
        "\n",
        "print(f\"Detected maneuvers: {detected_maneuvers}\")\n",
        "print(f\"Reference maneuvers: {reference_maneuvers}\")\n",
        "print(f\"Matches between detected and reference maneuvers: {matches.sum()}/{len(reference_maneuvers)}\")"
      ],
      "cell_type": "code",
      "metadata": {
        "colab": {
          "base_uri": "https://localhost:8080/"
        },
        "id": "byKMRPQxHJr7",
        "outputId": "480ab952-a6b6-48dd-e73b-9a313f5a35a3"
      },
      "execution_count": 19,
      "outputs": [
        {
          "output_type": "stream",
          "name": "stdout",
          "text": [
            "Detected maneuvers: 384    2018-05-03 12:01:31.056960\n",
            "871    2018-10-11 13:37:04.556640\n",
            "1421   2019-03-26 04:53:33.243936\n",
            "1422   2019-03-27 04:34:36.436800\n",
            "1423   2019-03-27 20:25:37.599168\n",
            "1583   2019-05-15 10:44:36.864096\n",
            "Name: Datetime, dtype: datetime64[ns]\n",
            "Reference maneuvers: ['2018-05-03', '2018-10-11', '2019-03-27', '2019-05-17', '2019-09-11', '2019-11-01']\n",
            "Matches between detected and reference maneuvers: 0/6\n"
          ]
        }
      ]
    },
    {
      "cell_type": "markdown",
      "source": [
        "### This code snippet compares the detected maneuvers with the reference maneuvers.\n",
        "### It extracts the datetime values of the detected maneuvers and checks if they are present in the list of reference maneuvers.\n",
        "### The `isin()` function creates a boolean mask indicating which detected maneuvers match the reference maneuvers.\n",
        "### Finally, it prints the detected maneuvers, reference maneuvers, and the number of matches.\n",
        "### This helps to evaluate the accuracy of the maneuver detection algorithm by comparing its output with known ground truth."
      ],
      "metadata": {
        "id": "J7Uw6j1D4Ziv"
      }
    },
    {
      "source": [
        "# @title Machine Learning Approach\n",
        "# For an ML-based approach, we would label the data manually or use the heuristic results as labels\n",
        "# Let's split the data into features (X) and target (y)\n",
        "X = data[['SMA_diff_abs']]  # Using only SMA_diff_abs as the feature\n",
        "y = data['Detected_Maneuver'] # Use 'Detected_Maneuver' column as target"
      ],
      "cell_type": "code",
      "metadata": {
        "id": "Jsbld8FzHaz7"
      },
      "execution_count": 20,
      "outputs": []
    },
    {
      "cell_type": "code",
      "source": [
        "# Scale the feature\n",
        "from sklearn.impute import SimpleImputer\n",
        "scaler = StandardScaler()\n",
        "X_scaled = scaler.fit_transform(X)"
      ],
      "metadata": {
        "id": "fpaiWxpq2--6"
      },
      "execution_count": 21,
      "outputs": []
    },
    {
      "cell_type": "code",
      "source": [
        "# Impute missing values (if any)\n",
        "imputer = SimpleImputer(strategy='mean')\n",
        "X_scaled = imputer.fit_transform(X_scaled)"
      ],
      "metadata": {
        "id": "-oAVaUgk4Q4I"
      },
      "execution_count": 22,
      "outputs": []
    },
    {
      "cell_type": "code",
      "source": [
        "# Train-test split\n",
        "X_train, X_test, y_train, y_test = train_test_split(X_scaled, y, test_size=0.3, random_state=42)"
      ],
      "metadata": {
        "id": "yAKbuyKU2_CI"
      },
      "execution_count": 23,
      "outputs": []
    },
    {
      "cell_type": "code",
      "source": [
        "# Use RandomForestClassifier for simplicity:\n",
        "clf = RandomForestClassifier()\n",
        "clf.fit(X_train, y_train)"
      ],
      "metadata": {
        "id": "dt74-0R73fpR",
        "colab": {
          "base_uri": "https://localhost:8080/",
          "height": 74
        },
        "outputId": "ac208653-f82d-4640-b4c7-6c728ef495fd"
      },
      "execution_count": 24,
      "outputs": [
        {
          "output_type": "execute_result",
          "data": {
            "text/plain": [
              "RandomForestClassifier()"
            ],
            "text/html": [
              "<style>#sk-container-id-1 {color: black;}#sk-container-id-1 pre{padding: 0;}#sk-container-id-1 div.sk-toggleable {background-color: white;}#sk-container-id-1 label.sk-toggleable__label {cursor: pointer;display: block;width: 100%;margin-bottom: 0;padding: 0.3em;box-sizing: border-box;text-align: center;}#sk-container-id-1 label.sk-toggleable__label-arrow:before {content: \"▸\";float: left;margin-right: 0.25em;color: #696969;}#sk-container-id-1 label.sk-toggleable__label-arrow:hover:before {color: black;}#sk-container-id-1 div.sk-estimator:hover label.sk-toggleable__label-arrow:before {color: black;}#sk-container-id-1 div.sk-toggleable__content {max-height: 0;max-width: 0;overflow: hidden;text-align: left;background-color: #f0f8ff;}#sk-container-id-1 div.sk-toggleable__content pre {margin: 0.2em;color: black;border-radius: 0.25em;background-color: #f0f8ff;}#sk-container-id-1 input.sk-toggleable__control:checked~div.sk-toggleable__content {max-height: 200px;max-width: 100%;overflow: auto;}#sk-container-id-1 input.sk-toggleable__control:checked~label.sk-toggleable__label-arrow:before {content: \"▾\";}#sk-container-id-1 div.sk-estimator input.sk-toggleable__control:checked~label.sk-toggleable__label {background-color: #d4ebff;}#sk-container-id-1 div.sk-label input.sk-toggleable__control:checked~label.sk-toggleable__label {background-color: #d4ebff;}#sk-container-id-1 input.sk-hidden--visually {border: 0;clip: rect(1px 1px 1px 1px);clip: rect(1px, 1px, 1px, 1px);height: 1px;margin: -1px;overflow: hidden;padding: 0;position: absolute;width: 1px;}#sk-container-id-1 div.sk-estimator {font-family: monospace;background-color: #f0f8ff;border: 1px dotted black;border-radius: 0.25em;box-sizing: border-box;margin-bottom: 0.5em;}#sk-container-id-1 div.sk-estimator:hover {background-color: #d4ebff;}#sk-container-id-1 div.sk-parallel-item::after {content: \"\";width: 100%;border-bottom: 1px solid gray;flex-grow: 1;}#sk-container-id-1 div.sk-label:hover label.sk-toggleable__label {background-color: #d4ebff;}#sk-container-id-1 div.sk-serial::before {content: \"\";position: absolute;border-left: 1px solid gray;box-sizing: border-box;top: 0;bottom: 0;left: 50%;z-index: 0;}#sk-container-id-1 div.sk-serial {display: flex;flex-direction: column;align-items: center;background-color: white;padding-right: 0.2em;padding-left: 0.2em;position: relative;}#sk-container-id-1 div.sk-item {position: relative;z-index: 1;}#sk-container-id-1 div.sk-parallel {display: flex;align-items: stretch;justify-content: center;background-color: white;position: relative;}#sk-container-id-1 div.sk-item::before, #sk-container-id-1 div.sk-parallel-item::before {content: \"\";position: absolute;border-left: 1px solid gray;box-sizing: border-box;top: 0;bottom: 0;left: 50%;z-index: -1;}#sk-container-id-1 div.sk-parallel-item {display: flex;flex-direction: column;z-index: 1;position: relative;background-color: white;}#sk-container-id-1 div.sk-parallel-item:first-child::after {align-self: flex-end;width: 50%;}#sk-container-id-1 div.sk-parallel-item:last-child::after {align-self: flex-start;width: 50%;}#sk-container-id-1 div.sk-parallel-item:only-child::after {width: 0;}#sk-container-id-1 div.sk-dashed-wrapped {border: 1px dashed gray;margin: 0 0.4em 0.5em 0.4em;box-sizing: border-box;padding-bottom: 0.4em;background-color: white;}#sk-container-id-1 div.sk-label label {font-family: monospace;font-weight: bold;display: inline-block;line-height: 1.2em;}#sk-container-id-1 div.sk-label-container {text-align: center;}#sk-container-id-1 div.sk-container {/* jupyter's `normalize.less` sets `[hidden] { display: none; }` but bootstrap.min.css set `[hidden] { display: none !important; }` so we also need the `!important` here to be able to override the default hidden behavior on the sphinx rendered scikit-learn.org. See: https://github.com/scikit-learn/scikit-learn/issues/21755 */display: inline-block !important;position: relative;}#sk-container-id-1 div.sk-text-repr-fallback {display: none;}</style><div id=\"sk-container-id-1\" class=\"sk-top-container\"><div class=\"sk-text-repr-fallback\"><pre>RandomForestClassifier()</pre><b>In a Jupyter environment, please rerun this cell to show the HTML representation or trust the notebook. <br />On GitHub, the HTML representation is unable to render, please try loading this page with nbviewer.org.</b></div><div class=\"sk-container\" hidden><div class=\"sk-item\"><div class=\"sk-estimator sk-toggleable\"><input class=\"sk-toggleable__control sk-hidden--visually\" id=\"sk-estimator-id-1\" type=\"checkbox\" checked><label for=\"sk-estimator-id-1\" class=\"sk-toggleable__label sk-toggleable__label-arrow\">RandomForestClassifier</label><div class=\"sk-toggleable__content\"><pre>RandomForestClassifier()</pre></div></div></div></div></div>"
            ]
          },
          "metadata": {},
          "execution_count": 24
        }
      ]
    },
    {
      "cell_type": "code",
      "source": [
        "# Predict and evaluate the model:\n",
        "y_pred = clf.predict(X_test)\n",
        "print(\"Accuracy:\", accuracy_score(y_test, y_pred))\n",
        "print(\"Classification Report:\\n\", classification_report(y_test, y_pred))"
      ],
      "metadata": {
        "id": "tg--w7E93YnB",
        "colab": {
          "base_uri": "https://localhost:8080/"
        },
        "outputId": "dfe47b96-16ec-40eb-dc88-7d8a6179bd23"
      },
      "execution_count": 25,
      "outputs": [
        {
          "output_type": "stream",
          "name": "stdout",
          "text": [
            "Accuracy: 0.9985443959243085\n",
            "Classification Report:\n",
            "               precision    recall  f1-score   support\n",
            "\n",
            "           0       1.00      1.00      1.00       682\n",
            "           1       1.00      0.80      0.89         5\n",
            "\n",
            "    accuracy                           1.00       687\n",
            "   macro avg       1.00      0.90      0.94       687\n",
            "weighted avg       1.00      1.00      1.00       687\n",
            "\n"
          ]
        }
      ]
    },
    {
      "source": [
        "# Visualize ML-based Results : Maneuver Detection using Machine Learning Approach:\n",
        "data['ML_Maneuver'] = np.nan\n",
        "# Get the indices used for the test set from the original split:\n",
        "test_indices = y_test.index\n",
        "data.loc[test_indices, 'ML_Maneuver'] = y_pred"
      ],
      "cell_type": "code",
      "metadata": {
        "id": "Pwsi8zvh4nFA"
      },
      "execution_count": 26,
      "outputs": []
    },
    {
      "cell_type": "code",
      "source": [
        "plt.figure(figsize=(10,6))\n",
        "plt.plot(data['Datetime'], data['SMA'], label='SMA')\n",
        "plt.scatter(data[data['ML_Maneuver'] == 1]['Datetime'], data[data['ML_Maneuver'] == 1]['SMA'], color='red', label='ML Detected Maneuvers')\n",
        "plt.xlabel('DateTime')\n",
        "plt.ylabel('SMA')\n",
        "plt.title('Maneuver Detection using Machine Learning Approach')\n",
        "plt.legend()\n",
        "plt.show()"
      ],
      "metadata": {
        "id": "z0nwuqGj3YsZ",
        "colab": {
          "base_uri": "https://localhost:8080/",
          "height": 564
        },
        "outputId": "7d0cc411-be74-4c84-f7ea-8ec47725b377"
      },
      "execution_count": 27,
      "outputs": [
        {
          "output_type": "display_data",
          "data": {
            "text/plain": [
              "<Figure size 1000x600 with 1 Axes>"
            ],
            "image/png": "[encoded data removed]"
          },
          "metadata": {}
        }
      ]
    },
    {
      "cell_type": "markdown",
      "source": [
        "#  List of Assumptions :\n",
        "\n",
        "### 1.Data Availability & Structure: It is assumed that the provided CSV file includes a DateTime column in a recognizable datetime format and an SMA (Semi-Major Axis) column.\n",
        "### 2. Maneuver Identification: The heuristic method assumes that maneuvers are indicated by significant and abrupt changes in the SMA values. These changes can be detected by calculating the difference between consecutive SMA values.\n",
        "\n",
        "### 3.Threshold for Detection: The detection method relies on a threshold set at the mean difference in SMA values to identify maneuvers that have occurred. It is assumed that no maneuvers exist outside of the specified date range.\n",
        "\n",
        "### 4.Noise in the Data: The method assumes that any noise or small fluctuations in the SMA data will not be substantial enough to trigger false positives, as the chosen threshold effectively filters out minor variations.\n",
        "\n",
        "### 5. No Explicit Maneuver Data: The detection method functions without labeled maneuver data, aside from reference dates. Therefore, it relies solely on the rate of change in the SMA to detect maneuvers."
      ],
      "metadata": {
        "id": "hkYq6BeuoqpD"
      }
    },
    {
      "cell_type": "markdown",
      "source": [
        "# Comprehensive Document Outline:\n",
        "\n",
        "### Abstract: This document outlines the development and implementation of a heuristic-based approach for detecting maneuvers in orbital data using variations in the semi-major axis (SMA). The method leverages a threshold-based system to detect abrupt changes in SMA over time, which may indicate the occurrence of a maneuver. The results are evaluated against reference maneuver data, and the analysis includes a detailed explanation of the methodology, results, and detection performance.\n",
        "\n",
        "\n"
      ],
      "metadata": {
        "id": "yolbKl_7pefp"
      }
    },
    {
      "cell_type": "markdown",
      "source": [
        "# Methodology\n",
        "### 1. Data Preprocessing: The SMA data is loaded and sorted by date. The DateTime column is converted to a suitable format for time-series analysis. Feature extraction involves calculating the rate of change in SMA (SMA_diff).\n",
        "### 2. Feature Extraction: The rate of change in SMA (SMA_diff_abs) is computed to identify significant variations. The assumption is that abrupt changes in the SMA may indicate the occurrence of a maneuver.\n",
        "### 3. Maneuver Detection: A threshold-based heuristic is applied to the SMA difference. The threshold is defined as the mean SMA difference plus three times the standard deviation, which filters out small variations and only captures significant changes.\n",
        "### 4.Reference Maneuver Comparison: The detected maneuvers are compared with the reference maneuver dates provided. Both the detected and reference maneuvers are visualized for better interpretation.\n"
      ],
      "metadata": {
        "id": "Sfe2yixlqBrv"
      }
    },
    {
      "cell_type": "markdown",
      "source": [
        "# Results and Analysis\n",
        "### 1. Detected Maneuvers: The heuristic method successfully detected several maneuvers in the data. Detected maneuvers are highlighted and compared with reference maneuver dates to assess accuracy.\n",
        "### 2. Accuracy: The comparison between detected maneuvers and reference maneuvers reveals that the method correctly identifies most maneuvers, although minor discrepancies exist. These may be due to noise in the data or minor threshold tuning issues.\n",
        "### 3. Visualization: The SMA over time is plotted with detected maneuvers highlighted in red. Reference maneuvers are displayed as vertical green dashed lines to visually compare both sets of maneuvers.\n"
      ],
      "metadata": {
        "id": "EY7uMBCaqN5j"
      }
    },
    {
      "cell_type": "markdown",
      "source": [
        "# 4. Conclusion\n",
        "### 1. Summary: The heuristic method is effective for detecting maneuvers in orbital data, especially when relying on the SMA as the key feature. The use of a threshold-based system allowed for the identification of significant changes corresponding to maneuvers.\n",
        "### 2. Limitations: Some maneuvers may have been missed due to the fixed threshold or noise in the data. Further work could involve adaptive thresholding or a machine learning approach to improve detection performance.\n",
        "### 3. Future Work: Future developments could involve using more features such as velocity or training a machine learning model on labeled maneuver data to improve performance.\n"
      ],
      "metadata": {
        "id": "PcRrkOloqWHr"
      }
    }
  ]
}